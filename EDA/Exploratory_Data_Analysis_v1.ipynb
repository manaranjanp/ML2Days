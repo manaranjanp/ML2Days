{
 "cells": [
  {
   "cell_type": "markdown",
   "metadata": {},
   "source": [
    "\n",
    "# EDA - Used Car Resale Price \n",
    "\n",
    "\n",
    "This notebook introduces the pandas library for data loading and prepartation and explores techniques of Exploratory Data Analysis (EDA).\n",
    "\n",
    "## Dataset\n",
    "\n",
    "**Filename**: used_cars_maruti.csv\n",
    "\n",
    "It is a comma separated file and there are 11 columns in the dataset.\n",
    "\n",
    "1. Model - Model of the car\n",
    "2. Location - The location in which the car was sold.\n",
    "3. Age - Age of the car when the car was sold from the year of purchase.\n",
    "4. KM_Driven - The total kilometers are driven in the car by the previous owner(s) in '000 kms.\n",
    "5. Fuel_Type - The type of fuel used by the car. (Petrol, Diesel, Electric, CNG, LPG)\n",
    "6. Transmission - The type of transmission used by the car. (Automatic / Manual)\n",
    "7. Owner_Type - First, Second, Third, or Fourth & Above\n",
    "8. Mileage - The standard mileage offered by the car company in kmpl or km/kg\n",
    "9. Power - The maximum power of the engine in bhp.\n",
    "10. Seats - The number of seats in the car.\n",
    "11. Price - The resale price of the car (target)."
   ]
  },
  {
   "cell_type": "markdown",
   "metadata": {},
   "source": [
    "## 1. Loading the dataset"
   ]
  },
  {
   "cell_type": "code",
   "execution_count": 1,
   "metadata": {},
   "outputs": [],
   "source": [
    "import pandas as pd\n",
    "import numpy as np"
   ]
  },
  {
   "cell_type": "markdown",
   "metadata": {},
   "source": [
    "### Check Library Versions"
   ]
  },
  {
   "cell_type": "code",
   "execution_count": 2,
   "metadata": {},
   "outputs": [
    {
     "data": {
      "text/plain": [
       "'2.0.3'"
      ]
     },
     "execution_count": 2,
     "metadata": {},
     "output_type": "execute_result"
    }
   ],
   "source": [
    "pd.__version__"
   ]
  },
  {
   "cell_type": "code",
   "execution_count": 3,
   "metadata": {},
   "outputs": [
    {
     "data": {
      "text/plain": [
       "'1.23.5'"
      ]
     },
     "execution_count": 3,
     "metadata": {},
     "output_type": "execute_result"
    }
   ],
   "source": [
    "np.__version__"
   ]
  },
  {
   "cell_type": "markdown",
   "metadata": {},
   "source": [
    "### Loading the dataset"
   ]
  },
  {
   "cell_type": "code",
   "execution_count": 4,
   "metadata": {},
   "outputs": [],
   "source": [
    "cars_df = pd.read_csv('used_cars_maruti.csv')"
   ]
  },
  {
   "cell_type": "code",
   "execution_count": 5,
   "metadata": {},
   "outputs": [
    {
     "data": {
      "text/plain": [
       "pandas.core.frame.DataFrame"
      ]
     },
     "execution_count": 5,
     "metadata": {},
     "output_type": "execute_result"
    }
   ],
   "source": [
    "type(cars_df)"
   ]
  },
  {
   "cell_type": "markdown",
   "metadata": {},
   "source": [
    "### Showing few records"
   ]
  },
  {
   "cell_type": "code",
   "execution_count": 6,
   "metadata": {},
   "outputs": [
    {
     "data": {
      "text/html": [
       "<div>\n",
       "<style scoped>\n",
       "    .dataframe tbody tr th:only-of-type {\n",
       "        vertical-align: middle;\n",
       "    }\n",
       "\n",
       "    .dataframe tbody tr th {\n",
       "        vertical-align: top;\n",
       "    }\n",
       "\n",
       "    .dataframe thead th {\n",
       "        text-align: right;\n",
       "    }\n",
       "</style>\n",
       "<table border=\"1\" class=\"dataframe\">\n",
       "  <thead>\n",
       "    <tr style=\"text-align: right;\">\n",
       "      <th></th>\n",
       "      <th>Location</th>\n",
       "      <th>Fuel_Type</th>\n",
       "      <th>Transmission</th>\n",
       "      <th>Owner_Type</th>\n",
       "      <th>Seats</th>\n",
       "      <th>Price</th>\n",
       "      <th>Age</th>\n",
       "      <th>Model</th>\n",
       "      <th>Mileage</th>\n",
       "      <th>Power</th>\n",
       "      <th>KM_Driven</th>\n",
       "    </tr>\n",
       "  </thead>\n",
       "  <tbody>\n",
       "    <tr>\n",
       "      <th>0</th>\n",
       "      <td>Chennai</td>\n",
       "      <td>Diesel</td>\n",
       "      <td>Manual</td>\n",
       "      <td>First</td>\n",
       "      <td>7</td>\n",
       "      <td>6.00</td>\n",
       "      <td>8</td>\n",
       "      <td>ertiga</td>\n",
       "      <td>20.77</td>\n",
       "      <td>88.76</td>\n",
       "      <td>87</td>\n",
       "    </tr>\n",
       "    <tr>\n",
       "      <th>1</th>\n",
       "      <td>Jaipur</td>\n",
       "      <td>Diesel</td>\n",
       "      <td>Manual</td>\n",
       "      <td>First</td>\n",
       "      <td>5</td>\n",
       "      <td>5.60</td>\n",
       "      <td>5</td>\n",
       "      <td>swift</td>\n",
       "      <td>25.20</td>\n",
       "      <td>74.00</td>\n",
       "      <td>64</td>\n",
       "    </tr>\n",
       "    <tr>\n",
       "      <th>2</th>\n",
       "      <td>Jaipur</td>\n",
       "      <td>Diesel</td>\n",
       "      <td>Manual</td>\n",
       "      <td>First</td>\n",
       "      <td>5</td>\n",
       "      <td>5.99</td>\n",
       "      <td>3</td>\n",
       "      <td>swift</td>\n",
       "      <td>28.40</td>\n",
       "      <td>74.00</td>\n",
       "      <td>25</td>\n",
       "    </tr>\n",
       "    <tr>\n",
       "      <th>3</th>\n",
       "      <td>Hyderabad</td>\n",
       "      <td>Petrol</td>\n",
       "      <td>Manual</td>\n",
       "      <td>Second</td>\n",
       "      <td>5</td>\n",
       "      <td>2.75</td>\n",
       "      <td>7</td>\n",
       "      <td>alto</td>\n",
       "      <td>20.92</td>\n",
       "      <td>67.10</td>\n",
       "      <td>54</td>\n",
       "    </tr>\n",
       "    <tr>\n",
       "      <th>4</th>\n",
       "      <td>Jaipur</td>\n",
       "      <td>Petrol</td>\n",
       "      <td>Manual</td>\n",
       "      <td>Second</td>\n",
       "      <td>5</td>\n",
       "      <td>1.85</td>\n",
       "      <td>11</td>\n",
       "      <td>wagon</td>\n",
       "      <td>14.00</td>\n",
       "      <td>64.00</td>\n",
       "      <td>83</td>\n",
       "    </tr>\n",
       "  </tbody>\n",
       "</table>\n",
       "</div>"
      ],
      "text/plain": [
       "    Location Fuel_Type Transmission Owner_Type  Seats  Price  Age   Model  \\\n",
       "0    Chennai    Diesel       Manual      First      7   6.00    8  ertiga   \n",
       "1     Jaipur    Diesel       Manual      First      5   5.60    5   swift   \n",
       "2     Jaipur    Diesel       Manual      First      5   5.99    3   swift   \n",
       "3  Hyderabad    Petrol       Manual     Second      5   2.75    7    alto   \n",
       "4     Jaipur    Petrol       Manual     Second      5   1.85   11   wagon   \n",
       "\n",
       "   Mileage  Power  KM_Driven  \n",
       "0    20.77  88.76         87  \n",
       "1    25.20  74.00         64  \n",
       "2    28.40  74.00         25  \n",
       "3    20.92  67.10         54  \n",
       "4    14.00  64.00         83  "
      ]
     },
     "execution_count": 6,
     "metadata": {},
     "output_type": "execute_result"
    }
   ],
   "source": [
    "cars_df.head(5)"
   ]
  },
  {
   "cell_type": "code",
   "execution_count": 7,
   "metadata": {},
   "outputs": [
    {
     "data": {
      "text/html": [
       "<div>\n",
       "<style scoped>\n",
       "    .dataframe tbody tr th:only-of-type {\n",
       "        vertical-align: middle;\n",
       "    }\n",
       "\n",
       "    .dataframe tbody tr th {\n",
       "        vertical-align: top;\n",
       "    }\n",
       "\n",
       "    .dataframe thead th {\n",
       "        text-align: right;\n",
       "    }\n",
       "</style>\n",
       "<table border=\"1\" class=\"dataframe\">\n",
       "  <thead>\n",
       "    <tr style=\"text-align: right;\">\n",
       "      <th></th>\n",
       "      <th>Location</th>\n",
       "      <th>Fuel_Type</th>\n",
       "      <th>Transmission</th>\n",
       "      <th>Owner_Type</th>\n",
       "      <th>Seats</th>\n",
       "      <th>Price</th>\n",
       "      <th>Age</th>\n",
       "      <th>Model</th>\n",
       "      <th>Mileage</th>\n",
       "      <th>Power</th>\n",
       "      <th>KM_Driven</th>\n",
       "    </tr>\n",
       "  </thead>\n",
       "  <tbody>\n",
       "    <tr>\n",
       "      <th>1065</th>\n",
       "      <td>Bangalore</td>\n",
       "      <td>Petrol</td>\n",
       "      <td>Manual</td>\n",
       "      <td>First</td>\n",
       "      <td>5</td>\n",
       "      <td>4.00</td>\n",
       "      <td>5</td>\n",
       "      <td>celerio</td>\n",
       "      <td>23.1</td>\n",
       "      <td>67.04</td>\n",
       "      <td>67</td>\n",
       "    </tr>\n",
       "    <tr>\n",
       "      <th>1066</th>\n",
       "      <td>Pune</td>\n",
       "      <td>Diesel</td>\n",
       "      <td>Manual</td>\n",
       "      <td>First</td>\n",
       "      <td>5</td>\n",
       "      <td>7.43</td>\n",
       "      <td>4</td>\n",
       "      <td>vitara</td>\n",
       "      <td>24.3</td>\n",
       "      <td>88.50</td>\n",
       "      <td>37</td>\n",
       "    </tr>\n",
       "    <tr>\n",
       "      <th>1067</th>\n",
       "      <td>Delhi</td>\n",
       "      <td>Diesel</td>\n",
       "      <td>Manual</td>\n",
       "      <td>First</td>\n",
       "      <td>5</td>\n",
       "      <td>2.75</td>\n",
       "      <td>9</td>\n",
       "      <td>swift</td>\n",
       "      <td>19.3</td>\n",
       "      <td>73.90</td>\n",
       "      <td>68</td>\n",
       "    </tr>\n",
       "    <tr>\n",
       "      <th>1068</th>\n",
       "      <td>Delhi</td>\n",
       "      <td>Diesel</td>\n",
       "      <td>Manual</td>\n",
       "      <td>First</td>\n",
       "      <td>5</td>\n",
       "      <td>4.75</td>\n",
       "      <td>6</td>\n",
       "      <td>swift</td>\n",
       "      <td>28.4</td>\n",
       "      <td>74.00</td>\n",
       "      <td>27</td>\n",
       "    </tr>\n",
       "    <tr>\n",
       "      <th>1069</th>\n",
       "      <td>Kolkata</td>\n",
       "      <td>Petrol</td>\n",
       "      <td>Manual</td>\n",
       "      <td>First</td>\n",
       "      <td>5</td>\n",
       "      <td>2.65</td>\n",
       "      <td>7</td>\n",
       "      <td>wagon</td>\n",
       "      <td>18.9</td>\n",
       "      <td>67.10</td>\n",
       "      <td>46</td>\n",
       "    </tr>\n",
       "  </tbody>\n",
       "</table>\n",
       "</div>"
      ],
      "text/plain": [
       "       Location Fuel_Type Transmission Owner_Type  Seats  Price  Age    Model  \\\n",
       "1065  Bangalore    Petrol       Manual      First      5   4.00    5  celerio   \n",
       "1066       Pune    Diesel       Manual      First      5   7.43    4   vitara   \n",
       "1067      Delhi    Diesel       Manual      First      5   2.75    9    swift   \n",
       "1068      Delhi    Diesel       Manual      First      5   4.75    6    swift   \n",
       "1069    Kolkata    Petrol       Manual      First      5   2.65    7    wagon   \n",
       "\n",
       "      Mileage  Power  KM_Driven  \n",
       "1065     23.1  67.04         67  \n",
       "1066     24.3  88.50         37  \n",
       "1067     19.3  73.90         68  \n",
       "1068     28.4  74.00         27  \n",
       "1069     18.9  67.10         46  "
      ]
     },
     "execution_count": 7,
     "metadata": {},
     "output_type": "execute_result"
    }
   ],
   "source": [
    "cars_df.tail(5)"
   ]
  },
  {
   "cell_type": "markdown",
   "metadata": {},
   "source": [
    "## Getting metadata"
   ]
  },
  {
   "cell_type": "code",
   "execution_count": 8,
   "metadata": {},
   "outputs": [
    {
     "data": {
      "text/plain": [
       "(1070, 11)"
      ]
     },
     "execution_count": 8,
     "metadata": {},
     "output_type": "execute_result"
    }
   ],
   "source": [
    "cars_df.shape"
   ]
  },
  {
   "cell_type": "code",
   "execution_count": 9,
   "metadata": {},
   "outputs": [
    {
     "name": "stdout",
     "output_type": "stream",
     "text": [
      "<class 'pandas.core.frame.DataFrame'>\n",
      "RangeIndex: 1070 entries, 0 to 1069\n",
      "Data columns (total 11 columns):\n",
      " #   Column        Non-Null Count  Dtype  \n",
      "---  ------        --------------  -----  \n",
      " 0   Location      1070 non-null   object \n",
      " 1   Fuel_Type     1070 non-null   object \n",
      " 2   Transmission  1070 non-null   object \n",
      " 3   Owner_Type    1070 non-null   object \n",
      " 4   Seats         1070 non-null   int64  \n",
      " 5   Price         1070 non-null   float64\n",
      " 6   Age           1070 non-null   int64  \n",
      " 7   Model         1070 non-null   object \n",
      " 8   Mileage       1070 non-null   float64\n",
      " 9   Power         1070 non-null   float64\n",
      " 10  KM_Driven     1070 non-null   int64  \n",
      "dtypes: float64(3), int64(3), object(5)\n",
      "memory usage: 92.1+ KB\n"
     ]
    }
   ],
   "source": [
    "cars_df.info()"
   ]
  },
  {
   "cell_type": "markdown",
   "metadata": {},
   "source": [
    "## 2. Indexing and Slicing\n",
    "\n",
    "Selecting specific set of rows and columns: How to slice, dice, and generally get and set subsets of pandas objects. \n",
    "\n",
    "Detailed Tutorial: https://pandas.pydata.org/pandas-docs/dev/user_guide/indexing.html"
   ]
  },
  {
   "cell_type": "code",
   "execution_count": 10,
   "metadata": {},
   "outputs": [
    {
     "data": {
      "text/html": [
       "<div>\n",
       "<style scoped>\n",
       "    .dataframe tbody tr th:only-of-type {\n",
       "        vertical-align: middle;\n",
       "    }\n",
       "\n",
       "    .dataframe tbody tr th {\n",
       "        vertical-align: top;\n",
       "    }\n",
       "\n",
       "    .dataframe thead th {\n",
       "        text-align: right;\n",
       "    }\n",
       "</style>\n",
       "<table border=\"1\" class=\"dataframe\">\n",
       "  <thead>\n",
       "    <tr style=\"text-align: right;\">\n",
       "      <th></th>\n",
       "      <th>Location</th>\n",
       "      <th>Fuel_Type</th>\n",
       "      <th>Transmission</th>\n",
       "      <th>Owner_Type</th>\n",
       "      <th>Seats</th>\n",
       "      <th>Price</th>\n",
       "      <th>Age</th>\n",
       "      <th>Model</th>\n",
       "      <th>Mileage</th>\n",
       "      <th>Power</th>\n",
       "      <th>KM_Driven</th>\n",
       "    </tr>\n",
       "  </thead>\n",
       "  <tbody>\n",
       "    <tr>\n",
       "      <th>5</th>\n",
       "      <td>Kochi</td>\n",
       "      <td>Diesel</td>\n",
       "      <td>Manual</td>\n",
       "      <td>First</td>\n",
       "      <td>5</td>\n",
       "      <td>8.63</td>\n",
       "      <td>2</td>\n",
       "      <td>vitara</td>\n",
       "      <td>24.3</td>\n",
       "      <td>88.5</td>\n",
       "      <td>50</td>\n",
       "    </tr>\n",
       "    <tr>\n",
       "      <th>6</th>\n",
       "      <td>Delhi</td>\n",
       "      <td>Petrol</td>\n",
       "      <td>Manual</td>\n",
       "      <td>Second</td>\n",
       "      <td>5</td>\n",
       "      <td>1.25</td>\n",
       "      <td>12</td>\n",
       "      <td>alto</td>\n",
       "      <td>19.7</td>\n",
       "      <td>46.3</td>\n",
       "      <td>90</td>\n",
       "    </tr>\n",
       "    <tr>\n",
       "      <th>7</th>\n",
       "      <td>Delhi</td>\n",
       "      <td>Diesel</td>\n",
       "      <td>Manual</td>\n",
       "      <td>First</td>\n",
       "      <td>5</td>\n",
       "      <td>4.25</td>\n",
       "      <td>6</td>\n",
       "      <td>swift</td>\n",
       "      <td>22.9</td>\n",
       "      <td>74.0</td>\n",
       "      <td>52</td>\n",
       "    </tr>\n",
       "    <tr>\n",
       "      <th>8</th>\n",
       "      <td>Kolkata</td>\n",
       "      <td>Diesel</td>\n",
       "      <td>Manual</td>\n",
       "      <td>First</td>\n",
       "      <td>5</td>\n",
       "      <td>3.30</td>\n",
       "      <td>6</td>\n",
       "      <td>swift</td>\n",
       "      <td>17.8</td>\n",
       "      <td>75.0</td>\n",
       "      <td>53</td>\n",
       "    </tr>\n",
       "    <tr>\n",
       "      <th>9</th>\n",
       "      <td>Delhi</td>\n",
       "      <td>Diesel</td>\n",
       "      <td>Manual</td>\n",
       "      <td>First</td>\n",
       "      <td>5</td>\n",
       "      <td>3.85</td>\n",
       "      <td>7</td>\n",
       "      <td>swift</td>\n",
       "      <td>28.4</td>\n",
       "      <td>74.0</td>\n",
       "      <td>65</td>\n",
       "    </tr>\n",
       "  </tbody>\n",
       "</table>\n",
       "</div>"
      ],
      "text/plain": [
       "  Location Fuel_Type Transmission Owner_Type  Seats  Price  Age   Model  \\\n",
       "5    Kochi    Diesel       Manual      First      5   8.63    2  vitara   \n",
       "6    Delhi    Petrol       Manual     Second      5   1.25   12    alto   \n",
       "7    Delhi    Diesel       Manual      First      5   4.25    6   swift   \n",
       "8  Kolkata    Diesel       Manual      First      5   3.30    6   swift   \n",
       "9    Delhi    Diesel       Manual      First      5   3.85    7   swift   \n",
       "\n",
       "   Mileage  Power  KM_Driven  \n",
       "5     24.3   88.5         50  \n",
       "6     19.7   46.3         90  \n",
       "7     22.9   74.0         52  \n",
       "8     17.8   75.0         53  \n",
       "9     28.4   74.0         65  "
      ]
     },
     "execution_count": 10,
     "metadata": {},
     "output_type": "execute_result"
    }
   ],
   "source": [
    "cars_df[5:10]"
   ]
  },
  {
   "cell_type": "code",
   "execution_count": 11,
   "metadata": {},
   "outputs": [
    {
     "data": {
      "text/html": [
       "<div>\n",
       "<style scoped>\n",
       "    .dataframe tbody tr th:only-of-type {\n",
       "        vertical-align: middle;\n",
       "    }\n",
       "\n",
       "    .dataframe tbody tr th {\n",
       "        vertical-align: top;\n",
       "    }\n",
       "\n",
       "    .dataframe thead th {\n",
       "        text-align: right;\n",
       "    }\n",
       "</style>\n",
       "<table border=\"1\" class=\"dataframe\">\n",
       "  <thead>\n",
       "    <tr style=\"text-align: right;\">\n",
       "      <th></th>\n",
       "      <th>Location</th>\n",
       "      <th>Fuel_Type</th>\n",
       "      <th>Transmission</th>\n",
       "      <th>Owner_Type</th>\n",
       "      <th>Seats</th>\n",
       "      <th>Price</th>\n",
       "      <th>Age</th>\n",
       "      <th>Model</th>\n",
       "      <th>Mileage</th>\n",
       "      <th>Power</th>\n",
       "      <th>KM_Driven</th>\n",
       "    </tr>\n",
       "  </thead>\n",
       "  <tbody>\n",
       "    <tr>\n",
       "      <th>1060</th>\n",
       "      <td>Hyderabad</td>\n",
       "      <td>Petrol</td>\n",
       "      <td>Manual</td>\n",
       "      <td>First</td>\n",
       "      <td>5</td>\n",
       "      <td>4.70</td>\n",
       "      <td>2</td>\n",
       "      <td>wagon</td>\n",
       "      <td>18.90</td>\n",
       "      <td>67.1</td>\n",
       "      <td>1</td>\n",
       "    </tr>\n",
       "    <tr>\n",
       "      <th>1061</th>\n",
       "      <td>Bangalore</td>\n",
       "      <td>Petrol</td>\n",
       "      <td>Manual</td>\n",
       "      <td>Second</td>\n",
       "      <td>7</td>\n",
       "      <td>5.94</td>\n",
       "      <td>6</td>\n",
       "      <td>ertiga</td>\n",
       "      <td>16.02</td>\n",
       "      <td>93.7</td>\n",
       "      <td>42</td>\n",
       "    </tr>\n",
       "    <tr>\n",
       "      <th>1062</th>\n",
       "      <td>Delhi</td>\n",
       "      <td>Petrol</td>\n",
       "      <td>Manual</td>\n",
       "      <td>Second</td>\n",
       "      <td>5</td>\n",
       "      <td>0.75</td>\n",
       "      <td>14</td>\n",
       "      <td>wagon</td>\n",
       "      <td>17.30</td>\n",
       "      <td>64.0</td>\n",
       "      <td>65</td>\n",
       "    </tr>\n",
       "    <tr>\n",
       "      <th>1063</th>\n",
       "      <td>Mumbai</td>\n",
       "      <td>Petrol</td>\n",
       "      <td>Manual</td>\n",
       "      <td>First</td>\n",
       "      <td>5</td>\n",
       "      <td>7.50</td>\n",
       "      <td>3</td>\n",
       "      <td>baleno</td>\n",
       "      <td>21.40</td>\n",
       "      <td>83.1</td>\n",
       "      <td>6</td>\n",
       "    </tr>\n",
       "    <tr>\n",
       "      <th>1064</th>\n",
       "      <td>Hyderabad</td>\n",
       "      <td>Diesel</td>\n",
       "      <td>Manual</td>\n",
       "      <td>First</td>\n",
       "      <td>5</td>\n",
       "      <td>4.80</td>\n",
       "      <td>8</td>\n",
       "      <td>swift</td>\n",
       "      <td>22.90</td>\n",
       "      <td>74.0</td>\n",
       "      <td>68</td>\n",
       "    </tr>\n",
       "  </tbody>\n",
       "</table>\n",
       "</div>"
      ],
      "text/plain": [
       "       Location Fuel_Type Transmission Owner_Type  Seats  Price  Age   Model  \\\n",
       "1060  Hyderabad    Petrol       Manual      First      5   4.70    2   wagon   \n",
       "1061  Bangalore    Petrol       Manual     Second      7   5.94    6  ertiga   \n",
       "1062      Delhi    Petrol       Manual     Second      5   0.75   14   wagon   \n",
       "1063     Mumbai    Petrol       Manual      First      5   7.50    3  baleno   \n",
       "1064  Hyderabad    Diesel       Manual      First      5   4.80    8   swift   \n",
       "\n",
       "      Mileage  Power  KM_Driven  \n",
       "1060    18.90   67.1          1  \n",
       "1061    16.02   93.7         42  \n",
       "1062    17.30   64.0         65  \n",
       "1063    21.40   83.1          6  \n",
       "1064    22.90   74.0         68  "
      ]
     },
     "execution_count": 11,
     "metadata": {},
     "output_type": "execute_result"
    }
   ],
   "source": [
    "cars_df[-10:-5]"
   ]
  },
  {
   "cell_type": "code",
   "execution_count": 13,
   "metadata": {},
   "outputs": [
    {
     "data": {
      "text/plain": [
       "0    ertiga\n",
       "1     swift\n",
       "2     swift\n",
       "3      alto\n",
       "4     wagon\n",
       "Name: Model, dtype: object"
      ]
     },
     "execution_count": 13,
     "metadata": {},
     "output_type": "execute_result"
    }
   ],
   "source": [
    "cars_df['Model'][0:5]"
   ]
  },
  {
   "cell_type": "code",
   "execution_count": 14,
   "metadata": {},
   "outputs": [
    {
     "data": {
      "text/html": [
       "<div>\n",
       "<style scoped>\n",
       "    .dataframe tbody tr th:only-of-type {\n",
       "        vertical-align: middle;\n",
       "    }\n",
       "\n",
       "    .dataframe tbody tr th {\n",
       "        vertical-align: top;\n",
       "    }\n",
       "\n",
       "    .dataframe thead th {\n",
       "        text-align: right;\n",
       "    }\n",
       "</style>\n",
       "<table border=\"1\" class=\"dataframe\">\n",
       "  <thead>\n",
       "    <tr style=\"text-align: right;\">\n",
       "      <th></th>\n",
       "      <th>Model</th>\n",
       "      <th>Price</th>\n",
       "    </tr>\n",
       "  </thead>\n",
       "  <tbody>\n",
       "    <tr>\n",
       "      <th>0</th>\n",
       "      <td>ertiga</td>\n",
       "      <td>6.00</td>\n",
       "    </tr>\n",
       "    <tr>\n",
       "      <th>1</th>\n",
       "      <td>swift</td>\n",
       "      <td>5.60</td>\n",
       "    </tr>\n",
       "    <tr>\n",
       "      <th>2</th>\n",
       "      <td>swift</td>\n",
       "      <td>5.99</td>\n",
       "    </tr>\n",
       "    <tr>\n",
       "      <th>3</th>\n",
       "      <td>alto</td>\n",
       "      <td>2.75</td>\n",
       "    </tr>\n",
       "    <tr>\n",
       "      <th>4</th>\n",
       "      <td>wagon</td>\n",
       "      <td>1.85</td>\n",
       "    </tr>\n",
       "  </tbody>\n",
       "</table>\n",
       "</div>"
      ],
      "text/plain": [
       "    Model  Price\n",
       "0  ertiga   6.00\n",
       "1   swift   5.60\n",
       "2   swift   5.99\n",
       "3    alto   2.75\n",
       "4   wagon   1.85"
      ]
     },
     "execution_count": 14,
     "metadata": {},
     "output_type": "execute_result"
    }
   ],
   "source": [
    "cols = ['Model', 'Price']\n",
    "cars_df[cols][0:5]"
   ]
  },
  {
   "cell_type": "markdown",
   "metadata": {},
   "source": [
    "## 3. Sampling Records"
   ]
  },
  {
   "cell_type": "code",
   "execution_count": 15,
   "metadata": {
    "scrolled": false
   },
   "outputs": [
    {
     "data": {
      "text/html": [
       "<div>\n",
       "<style scoped>\n",
       "    .dataframe tbody tr th:only-of-type {\n",
       "        vertical-align: middle;\n",
       "    }\n",
       "\n",
       "    .dataframe tbody tr th {\n",
       "        vertical-align: top;\n",
       "    }\n",
       "\n",
       "    .dataframe thead th {\n",
       "        text-align: right;\n",
       "    }\n",
       "</style>\n",
       "<table border=\"1\" class=\"dataframe\">\n",
       "  <thead>\n",
       "    <tr style=\"text-align: right;\">\n",
       "      <th></th>\n",
       "      <th>Location</th>\n",
       "      <th>Fuel_Type</th>\n",
       "      <th>Transmission</th>\n",
       "      <th>Owner_Type</th>\n",
       "      <th>Seats</th>\n",
       "      <th>Price</th>\n",
       "      <th>Age</th>\n",
       "      <th>Model</th>\n",
       "      <th>Mileage</th>\n",
       "      <th>Power</th>\n",
       "      <th>KM_Driven</th>\n",
       "    </tr>\n",
       "  </thead>\n",
       "  <tbody>\n",
       "    <tr>\n",
       "      <th>785</th>\n",
       "      <td>Ahmedabad</td>\n",
       "      <td>Petrol</td>\n",
       "      <td>Manual</td>\n",
       "      <td>First</td>\n",
       "      <td>5</td>\n",
       "      <td>7.75</td>\n",
       "      <td>2</td>\n",
       "      <td>swift</td>\n",
       "      <td>22.00</td>\n",
       "      <td>81.80</td>\n",
       "      <td>2</td>\n",
       "    </tr>\n",
       "    <tr>\n",
       "      <th>124</th>\n",
       "      <td>Delhi</td>\n",
       "      <td>Diesel</td>\n",
       "      <td>Manual</td>\n",
       "      <td>First</td>\n",
       "      <td>5</td>\n",
       "      <td>4.90</td>\n",
       "      <td>5</td>\n",
       "      <td>swift</td>\n",
       "      <td>25.20</td>\n",
       "      <td>74.00</td>\n",
       "      <td>63</td>\n",
       "    </tr>\n",
       "    <tr>\n",
       "      <th>885</th>\n",
       "      <td>Jaipur</td>\n",
       "      <td>Petrol</td>\n",
       "      <td>Manual</td>\n",
       "      <td>Second</td>\n",
       "      <td>5</td>\n",
       "      <td>2.42</td>\n",
       "      <td>6</td>\n",
       "      <td>alto</td>\n",
       "      <td>22.74</td>\n",
       "      <td>47.30</td>\n",
       "      <td>45</td>\n",
       "    </tr>\n",
       "    <tr>\n",
       "      <th>146</th>\n",
       "      <td>Hyderabad</td>\n",
       "      <td>Diesel</td>\n",
       "      <td>Manual</td>\n",
       "      <td>First</td>\n",
       "      <td>5</td>\n",
       "      <td>8.65</td>\n",
       "      <td>2</td>\n",
       "      <td>swift</td>\n",
       "      <td>28.40</td>\n",
       "      <td>74.00</td>\n",
       "      <td>5</td>\n",
       "    </tr>\n",
       "    <tr>\n",
       "      <th>583</th>\n",
       "      <td>Pune</td>\n",
       "      <td>Diesel</td>\n",
       "      <td>Manual</td>\n",
       "      <td>Third</td>\n",
       "      <td>5</td>\n",
       "      <td>2.25</td>\n",
       "      <td>8</td>\n",
       "      <td>dzire</td>\n",
       "      <td>28.40</td>\n",
       "      <td>73.75</td>\n",
       "      <td>150</td>\n",
       "    </tr>\n",
       "  </tbody>\n",
       "</table>\n",
       "</div>"
      ],
      "text/plain": [
       "      Location Fuel_Type Transmission Owner_Type  Seats  Price  Age  Model  \\\n",
       "785  Ahmedabad    Petrol       Manual      First      5   7.75    2  swift   \n",
       "124      Delhi    Diesel       Manual      First      5   4.90    5  swift   \n",
       "885     Jaipur    Petrol       Manual     Second      5   2.42    6   alto   \n",
       "146  Hyderabad    Diesel       Manual      First      5   8.65    2  swift   \n",
       "583       Pune    Diesel       Manual      Third      5   2.25    8  dzire   \n",
       "\n",
       "     Mileage  Power  KM_Driven  \n",
       "785    22.00  81.80          2  \n",
       "124    25.20  74.00         63  \n",
       "885    22.74  47.30         45  \n",
       "146    28.40  74.00          5  \n",
       "583    28.40  73.75        150  "
      ]
     },
     "execution_count": 15,
     "metadata": {},
     "output_type": "execute_result"
    }
   ],
   "source": [
    "cars_df.sample(5, random_state = 100)"
   ]
  },
  {
   "cell_type": "markdown",
   "metadata": {},
   "source": [
    "# Univariate Analysis - Analyzing One Variable"
   ]
  },
  {
   "cell_type": "markdown",
   "metadata": {},
   "source": [
    "## 4. Transmission Types\n",
    "\n",
    "- What are different transmission types and how many cars are available from each transmission type (in percentages)?"
   ]
  },
  {
   "cell_type": "code",
   "execution_count": 16,
   "metadata": {},
   "outputs": [
    {
     "data": {
      "text/plain": [
       "Transmission\n",
       "Manual       976\n",
       "Automatic     94\n",
       "Name: count, dtype: int64"
      ]
     },
     "execution_count": 16,
     "metadata": {},
     "output_type": "execute_result"
    }
   ],
   "source": [
    "cars_df.Transmission.value_counts()"
   ]
  },
  {
   "cell_type": "code",
   "execution_count": 17,
   "metadata": {},
   "outputs": [
    {
     "data": {
      "text/plain": [
       "Transmission\n",
       "Manual       91.214953\n",
       "Automatic     8.785047\n",
       "Name: proportion, dtype: float64"
      ]
     },
     "execution_count": 17,
     "metadata": {},
     "output_type": "execute_result"
    }
   ],
   "source": [
    "cars_df.Transmission.value_counts(normalize=True)*100"
   ]
  },
  {
   "cell_type": "markdown",
   "metadata": {},
   "source": [
    "### Ex1. Participants Exercises:\n",
    "\n",
    "- What are different owner types?\n",
    "- What percentage of cars are available from each owner type for resale?"
   ]
  },
  {
   "cell_type": "code",
   "execution_count": 18,
   "metadata": {},
   "outputs": [],
   "source": [
    "#TODO by participants\n"
   ]
  },
  {
   "cell_type": "markdown",
   "metadata": {},
   "source": [
    "## 5. Filtering Records\n",
    "\n",
    "- Find out how many cars were sold that were 15 years old or more?"
   ]
  },
  {
   "cell_type": "code",
   "execution_count": 19,
   "metadata": {},
   "outputs": [],
   "source": [
    "old_cars_df = cars_df[cars_df.Age > 14]"
   ]
  },
  {
   "cell_type": "code",
   "execution_count": 20,
   "metadata": {},
   "outputs": [
    {
     "data": {
      "text/plain": [
       "(34, 11)"
      ]
     },
     "execution_count": 20,
     "metadata": {},
     "output_type": "execute_result"
    }
   ],
   "source": [
    "old_cars_df.shape"
   ]
  },
  {
   "cell_type": "code",
   "execution_count": 21,
   "metadata": {},
   "outputs": [],
   "source": [
    "cars_df = cars_df[cars_df.Age < 15]"
   ]
  },
  {
   "cell_type": "code",
   "execution_count": 22,
   "metadata": {},
   "outputs": [
    {
     "data": {
      "text/html": [
       "<div>\n",
       "<style scoped>\n",
       "    .dataframe tbody tr th:only-of-type {\n",
       "        vertical-align: middle;\n",
       "    }\n",
       "\n",
       "    .dataframe tbody tr th {\n",
       "        vertical-align: top;\n",
       "    }\n",
       "\n",
       "    .dataframe thead th {\n",
       "        text-align: right;\n",
       "    }\n",
       "</style>\n",
       "<table border=\"1\" class=\"dataframe\">\n",
       "  <thead>\n",
       "    <tr style=\"text-align: right;\">\n",
       "      <th></th>\n",
       "      <th>Location</th>\n",
       "      <th>Fuel_Type</th>\n",
       "      <th>Transmission</th>\n",
       "      <th>Owner_Type</th>\n",
       "      <th>Seats</th>\n",
       "      <th>Price</th>\n",
       "      <th>Age</th>\n",
       "      <th>Model</th>\n",
       "      <th>Mileage</th>\n",
       "      <th>Power</th>\n",
       "      <th>KM_Driven</th>\n",
       "    </tr>\n",
       "  </thead>\n",
       "  <tbody>\n",
       "    <tr>\n",
       "      <th>0</th>\n",
       "      <td>Chennai</td>\n",
       "      <td>Diesel</td>\n",
       "      <td>Manual</td>\n",
       "      <td>First</td>\n",
       "      <td>7</td>\n",
       "      <td>6.00</td>\n",
       "      <td>8</td>\n",
       "      <td>ertiga</td>\n",
       "      <td>20.77</td>\n",
       "      <td>88.76</td>\n",
       "      <td>87</td>\n",
       "    </tr>\n",
       "    <tr>\n",
       "      <th>1</th>\n",
       "      <td>Jaipur</td>\n",
       "      <td>Diesel</td>\n",
       "      <td>Manual</td>\n",
       "      <td>First</td>\n",
       "      <td>5</td>\n",
       "      <td>5.60</td>\n",
       "      <td>5</td>\n",
       "      <td>swift</td>\n",
       "      <td>25.20</td>\n",
       "      <td>74.00</td>\n",
       "      <td>64</td>\n",
       "    </tr>\n",
       "    <tr>\n",
       "      <th>2</th>\n",
       "      <td>Jaipur</td>\n",
       "      <td>Diesel</td>\n",
       "      <td>Manual</td>\n",
       "      <td>First</td>\n",
       "      <td>5</td>\n",
       "      <td>5.99</td>\n",
       "      <td>3</td>\n",
       "      <td>swift</td>\n",
       "      <td>28.40</td>\n",
       "      <td>74.00</td>\n",
       "      <td>25</td>\n",
       "    </tr>\n",
       "    <tr>\n",
       "      <th>3</th>\n",
       "      <td>Hyderabad</td>\n",
       "      <td>Petrol</td>\n",
       "      <td>Manual</td>\n",
       "      <td>Second</td>\n",
       "      <td>5</td>\n",
       "      <td>2.75</td>\n",
       "      <td>7</td>\n",
       "      <td>alto</td>\n",
       "      <td>20.92</td>\n",
       "      <td>67.10</td>\n",
       "      <td>54</td>\n",
       "    </tr>\n",
       "    <tr>\n",
       "      <th>4</th>\n",
       "      <td>Jaipur</td>\n",
       "      <td>Petrol</td>\n",
       "      <td>Manual</td>\n",
       "      <td>Second</td>\n",
       "      <td>5</td>\n",
       "      <td>1.85</td>\n",
       "      <td>11</td>\n",
       "      <td>wagon</td>\n",
       "      <td>14.00</td>\n",
       "      <td>64.00</td>\n",
       "      <td>83</td>\n",
       "    </tr>\n",
       "  </tbody>\n",
       "</table>\n",
       "</div>"
      ],
      "text/plain": [
       "    Location Fuel_Type Transmission Owner_Type  Seats  Price  Age   Model  \\\n",
       "0    Chennai    Diesel       Manual      First      7   6.00    8  ertiga   \n",
       "1     Jaipur    Diesel       Manual      First      5   5.60    5   swift   \n",
       "2     Jaipur    Diesel       Manual      First      5   5.99    3   swift   \n",
       "3  Hyderabad    Petrol       Manual     Second      5   2.75    7    alto   \n",
       "4     Jaipur    Petrol       Manual     Second      5   1.85   11   wagon   \n",
       "\n",
       "   Mileage  Power  KM_Driven  \n",
       "0    20.77  88.76         87  \n",
       "1    25.20  74.00         64  \n",
       "2    28.40  74.00         25  \n",
       "3    20.92  67.10         54  \n",
       "4    14.00  64.00         83  "
      ]
     },
     "execution_count": 22,
     "metadata": {},
     "output_type": "execute_result"
    }
   ],
   "source": [
    "cars_df.head(5)"
   ]
  },
  {
   "cell_type": "code",
   "execution_count": 23,
   "metadata": {},
   "outputs": [
    {
     "data": {
      "text/plain": [
       "(1036, 11)"
      ]
     },
     "execution_count": 23,
     "metadata": {},
     "output_type": "execute_result"
    }
   ],
   "source": [
    "cars_df.shape"
   ]
  },
  {
   "cell_type": "markdown",
   "metadata": {},
   "source": [
    "## 6. Most and Least Expensive Cars"
   ]
  },
  {
   "cell_type": "code",
   "execution_count": 24,
   "metadata": {},
   "outputs": [
    {
     "data": {
      "text/html": [
       "<div>\n",
       "<style scoped>\n",
       "    .dataframe tbody tr th:only-of-type {\n",
       "        vertical-align: middle;\n",
       "    }\n",
       "\n",
       "    .dataframe tbody tr th {\n",
       "        vertical-align: top;\n",
       "    }\n",
       "\n",
       "    .dataframe thead th {\n",
       "        text-align: right;\n",
       "    }\n",
       "</style>\n",
       "<table border=\"1\" class=\"dataframe\">\n",
       "  <thead>\n",
       "    <tr style=\"text-align: right;\">\n",
       "      <th></th>\n",
       "      <th>Location</th>\n",
       "      <th>Fuel_Type</th>\n",
       "      <th>Transmission</th>\n",
       "      <th>Owner_Type</th>\n",
       "      <th>Seats</th>\n",
       "      <th>Price</th>\n",
       "      <th>Age</th>\n",
       "      <th>Model</th>\n",
       "      <th>Mileage</th>\n",
       "      <th>Power</th>\n",
       "      <th>KM_Driven</th>\n",
       "    </tr>\n",
       "  </thead>\n",
       "  <tbody>\n",
       "    <tr>\n",
       "      <th>873</th>\n",
       "      <td>Kochi</td>\n",
       "      <td>Diesel</td>\n",
       "      <td>Manual</td>\n",
       "      <td>First</td>\n",
       "      <td>5</td>\n",
       "      <td>10.19</td>\n",
       "      <td>2</td>\n",
       "      <td>vitara</td>\n",
       "      <td>24.30</td>\n",
       "      <td>88.5</td>\n",
       "      <td>57</td>\n",
       "    </tr>\n",
       "    <tr>\n",
       "      <th>629</th>\n",
       "      <td>Coimbatore</td>\n",
       "      <td>Diesel</td>\n",
       "      <td>Manual</td>\n",
       "      <td>First</td>\n",
       "      <td>5</td>\n",
       "      <td>10.15</td>\n",
       "      <td>2</td>\n",
       "      <td>vitara</td>\n",
       "      <td>24.30</td>\n",
       "      <td>88.5</td>\n",
       "      <td>52</td>\n",
       "    </tr>\n",
       "    <tr>\n",
       "      <th>343</th>\n",
       "      <td>Kochi</td>\n",
       "      <td>Petrol</td>\n",
       "      <td>Manual</td>\n",
       "      <td>First</td>\n",
       "      <td>5</td>\n",
       "      <td>9.96</td>\n",
       "      <td>2</td>\n",
       "      <td>ciaz</td>\n",
       "      <td>20.73</td>\n",
       "      <td>91.1</td>\n",
       "      <td>15</td>\n",
       "    </tr>\n",
       "    <tr>\n",
       "      <th>1051</th>\n",
       "      <td>Hyderabad</td>\n",
       "      <td>Petrol</td>\n",
       "      <td>Automatic</td>\n",
       "      <td>First</td>\n",
       "      <td>5</td>\n",
       "      <td>9.95</td>\n",
       "      <td>3</td>\n",
       "      <td>ciaz</td>\n",
       "      <td>19.12</td>\n",
       "      <td>91.1</td>\n",
       "      <td>15</td>\n",
       "    </tr>\n",
       "    <tr>\n",
       "      <th>24</th>\n",
       "      <td>Kochi</td>\n",
       "      <td>Petrol</td>\n",
       "      <td>Manual</td>\n",
       "      <td>First</td>\n",
       "      <td>5</td>\n",
       "      <td>9.90</td>\n",
       "      <td>2</td>\n",
       "      <td>ciaz</td>\n",
       "      <td>20.73</td>\n",
       "      <td>91.1</td>\n",
       "      <td>41</td>\n",
       "    </tr>\n",
       "  </tbody>\n",
       "</table>\n",
       "</div>"
      ],
      "text/plain": [
       "        Location Fuel_Type Transmission Owner_Type  Seats  Price  Age   Model  \\\n",
       "873        Kochi    Diesel       Manual      First      5  10.19    2  vitara   \n",
       "629   Coimbatore    Diesel       Manual      First      5  10.15    2  vitara   \n",
       "343        Kochi    Petrol       Manual      First      5   9.96    2    ciaz   \n",
       "1051   Hyderabad    Petrol    Automatic      First      5   9.95    3    ciaz   \n",
       "24         Kochi    Petrol       Manual      First      5   9.90    2    ciaz   \n",
       "\n",
       "      Mileage  Power  KM_Driven  \n",
       "873     24.30   88.5         57  \n",
       "629     24.30   88.5         52  \n",
       "343     20.73   91.1         15  \n",
       "1051    19.12   91.1         15  \n",
       "24      20.73   91.1         41  "
      ]
     },
     "execution_count": 24,
     "metadata": {},
     "output_type": "execute_result"
    }
   ],
   "source": [
    "cars_df.sort_values('Price', ascending=False)[0:5]"
   ]
  },
  {
   "cell_type": "markdown",
   "metadata": {},
   "source": [
    "### Ex2. Participants Exercises:\n",
    "\n",
    "- Find out top 10 least expensive cars sold in Bangalore and print only their model and sold price \n",
    "\n",
    "    - Apply filter\n",
    "    - Sort values \n",
    "    - Slice by column names\n",
    "    - Print only top 10 rows\n"
   ]
  },
  {
   "cell_type": "code",
   "execution_count": 25,
   "metadata": {},
   "outputs": [
    {
     "data": {
      "text/html": [
       "<div>\n",
       "<style scoped>\n",
       "    .dataframe tbody tr th:only-of-type {\n",
       "        vertical-align: middle;\n",
       "    }\n",
       "\n",
       "    .dataframe tbody tr th {\n",
       "        vertical-align: top;\n",
       "    }\n",
       "\n",
       "    .dataframe thead th {\n",
       "        text-align: right;\n",
       "    }\n",
       "</style>\n",
       "<table border=\"1\" class=\"dataframe\">\n",
       "  <thead>\n",
       "    <tr style=\"text-align: right;\">\n",
       "      <th></th>\n",
       "      <th>Model</th>\n",
       "      <th>Price</th>\n",
       "    </tr>\n",
       "  </thead>\n",
       "  <tbody>\n",
       "    <tr>\n",
       "      <th>1062</th>\n",
       "      <td>wagon</td>\n",
       "      <td>0.75</td>\n",
       "    </tr>\n",
       "    <tr>\n",
       "      <th>255</th>\n",
       "      <td>800</td>\n",
       "      <td>0.75</td>\n",
       "    </tr>\n",
       "    <tr>\n",
       "      <th>672</th>\n",
       "      <td>800</td>\n",
       "      <td>0.80</td>\n",
       "    </tr>\n",
       "    <tr>\n",
       "      <th>1008</th>\n",
       "      <td>baleno</td>\n",
       "      <td>0.85</td>\n",
       "    </tr>\n",
       "    <tr>\n",
       "      <th>703</th>\n",
       "      <td>800</td>\n",
       "      <td>0.90</td>\n",
       "    </tr>\n",
       "    <tr>\n",
       "      <th>221</th>\n",
       "      <td>800</td>\n",
       "      <td>0.90</td>\n",
       "    </tr>\n",
       "    <tr>\n",
       "      <th>263</th>\n",
       "      <td>800</td>\n",
       "      <td>0.90</td>\n",
       "    </tr>\n",
       "    <tr>\n",
       "      <th>69</th>\n",
       "      <td>alto</td>\n",
       "      <td>0.92</td>\n",
       "    </tr>\n",
       "    <tr>\n",
       "      <th>1003</th>\n",
       "      <td>wagon</td>\n",
       "      <td>1.00</td>\n",
       "    </tr>\n",
       "    <tr>\n",
       "      <th>65</th>\n",
       "      <td>800</td>\n",
       "      <td>1.00</td>\n",
       "    </tr>\n",
       "  </tbody>\n",
       "</table>\n",
       "</div>"
      ],
      "text/plain": [
       "       Model  Price\n",
       "1062   wagon   0.75\n",
       "255      800   0.75\n",
       "672      800   0.80\n",
       "1008  baleno   0.85\n",
       "703      800   0.90\n",
       "221      800   0.90\n",
       "263      800   0.90\n",
       "69      alto   0.92\n",
       "1003   wagon   1.00\n",
       "65       800   1.00"
      ]
     },
     "execution_count": 25,
     "metadata": {},
     "output_type": "execute_result"
    }
   ],
   "source": [
    "cars_df[['Model', 'Price']].sort_values('Price', ascending = True)[0:10]"
   ]
  },
  {
   "cell_type": "markdown",
   "metadata": {},
   "source": [
    "## 7. Distribution of Resale Price\n",
    "\n",
    "- A distribution in statistics is a function that shows the possible values for a variable and how often they occur.\n",
    "- How many cars are sold at different price ranges? For example: cars sold in the price range of 1L - 2L, 2L - 3L etc.?"
   ]
  },
  {
   "cell_type": "markdown",
   "metadata": {},
   "source": [
    "#### Histogram for plotting Continuous Variables (Price)"
   ]
  },
  {
   "cell_type": "code",
   "execution_count": 28,
   "metadata": {},
   "outputs": [],
   "source": [
    "import matplotlib.pyplot as plt\n",
    "import seaborn as sn\n",
    "\n",
    "sn.set_style(\"whitegrid\")\n",
    "sn.set_context(\"paper\")\n",
    "sn.color_palette(\"Set2\");"
   ]
  },
  {
   "cell_type": "code",
   "execution_count": 29,
   "metadata": {},
   "outputs": [
    {
     "data": {
      "image/png": "[encoded data removed]",
      "text/plain": [
       "<Figure size 1200x600 with 1 Axes>"
      ]
     },
     "metadata": {},
     "output_type": "display_data"
    }
   ],
   "source": [
    "plt.figure(figsize=(12, 6))\n",
    "plt.hist(cars_df.Price, bins = list(range(0, 11, 1)));\n",
    "plt.xticks(list(range(0, 11, 1)))\n",
    "plt.xlabel(\"Price\")\n",
    "plt.ylabel(\"Counts\")\n",
    "plt.title(\"Histogram of Resale Price\");"
   ]
  },
  {
   "cell_type": "code",
   "execution_count": 30,
   "metadata": {},
   "outputs": [
    {
     "data": {
      "image/png": "[encoded data removed]",
      "text/plain": [
       "<Figure size 1200x600 with 1 Axes>"
      ]
     },
     "metadata": {},
     "output_type": "display_data"
    }
   ],
   "source": [
    "plt.figure(figsize=(12, 6))\n",
    "sn.kdeplot(data = cars_df, \n",
    "           x = 'Price');"
   ]
  },
  {
   "cell_type": "markdown",
   "metadata": {},
   "source": [
    "## What is Normal Distribution?\n",
    "\n",
    "The normal distribution, also known as the Gaussian distribution, is the most important probability distribution in statistics for independent, random variables. Most people recognize its familiar bell-shaped curve in statistical reports.\n",
    "\n",
    "- The normal distribution is a continuous probability distribution that is symmetrical around its mean, most of the observations cluster around the central peak, and the probabilities for values further away from the mean taper off equally in both directions. \n",
    "- Extreme values in both tails of the distribution are similarly unlikely. While the normal distribution is symmetrical, not all symmetrical distributions are normal\n",
    "\n",
    "Source: https://statisticsbyjim.com/basics/normal-distribution/\n",
    "\n",
    "References:\n",
    "\n",
    "https://en.wikipedia.org/wiki/Normal_distribution\n",
    "\n",
    "https://courses.lumenlearning.com/math4libarts/chapter/understanding-normal-distribution/\n",
    "\n",
    "<img src=\"normal.png\" alt=\"Normal Distribution\" width=\"500\"/>\n",
    "\n",
    "Source: https://en.wikipedia.org/wiki/Normal_distribution\n",
    "\n",
    "### Calculate Mean, Standard Deviation of Daily Returns for ICICI Bank\n",
    "\n",
    "The normal distribution is parameterized by two parameters: the mean of the distribution $\\mu$ and the variance $\\sigma^2$. \n",
    "\n",
    "The sample mean of a normal distribution is given by, \n",
    "\n",
    "$\\bar x = \\frac{1}{n}\\sum_{i=1}^{n}x_{i}$\n",
    "\n",
    "Variance is given by, \n",
    "\n",
    "$\\sigma^2 = \\frac{1}{n}\\sqrt \\sum_{i=1}^{n}(x_{i}-\\bar x)^2$. \n",
    "\n",
    "And standard deviation is square root of variance and is denoted by $\\sigma$.\n",
    "\n",
    "- In investing, standard deviation is used as an indicator of market volatility and thus of risk. The more unpredictable the price action and the wider the range, the greater the risk."
   ]
  },
  {
   "cell_type": "markdown",
   "metadata": {},
   "source": [
    "### Ex3. Participants Exercises:\n",
    "\n",
    "- Draw a histogram for kilometer driven with each bin of size 10000km"
   ]
  },
  {
   "cell_type": "markdown",
   "metadata": {},
   "source": [
    "## 8. Outliers\n",
    "\n",
    "- In statistics, an outlier is a data point that differs significantly from other observations.\n",
    "- An outlier may be due to variability in the measurement or it may indicate experimental error; the latter are sometimes excluded from the data set.\n",
    "- An outlier can cause serious problems in statistical analyses.\n",
    "\n",
    "Source: https://en.wikipedia.org/wiki/Outlier\n",
    "\n",
    "### 8.1 Using Standard Deviation Approach"
   ]
  },
  {
   "cell_type": "code",
   "execution_count": 31,
   "metadata": {},
   "outputs": [],
   "source": [
    "from scipy import stats"
   ]
  },
  {
   "cell_type": "code",
   "execution_count": 32,
   "metadata": {},
   "outputs": [
    {
     "data": {
      "text/plain": [
       "(-1.7769686598390155, 11.061119238989571)"
      ]
     },
     "execution_count": 32,
     "metadata": {},
     "output_type": "execute_result"
    }
   ],
   "source": [
    "stats.norm.interval(0.997,\n",
    "                    cars_df.Price.mean(),\n",
    "                    cars_df.Price.std())"
   ]
  },
  {
   "cell_type": "markdown",
   "metadata": {},
   "source": [
    "### 8.2 Using Box Plot Approach\n",
    "\n",
    "- A boxplot displays the distribution of data based on a five number summary (“minimum”, first quartile (Q1), median, third quartile (Q3), and “maximum”). \n",
    "\n",
    "- It can find outliers and what their values are. It can also tell if the data is symmetrical, how tightly the data is grouped, and if the data is skewed.\n",
    "\n",
    "- The minimum or lowest value of the dataset\n",
    "\n",
    "\n",
    "Source: https://towardsdatascience.com/understanding-boxplots-5e2df7bcbd51\n",
    "\n",
    "<img src=\"box.png\" alt=\"Nowmal Distribution\" width=\"500\"/>"
   ]
  },
  {
   "cell_type": "code",
   "execution_count": 33,
   "metadata": {},
   "outputs": [
    {
     "data": {
      "image/png": "[encoded data removed]",
      "text/plain": [
       "<Figure size 1200x600 with 1 Axes>"
      ]
     },
     "metadata": {},
     "output_type": "display_data"
    }
   ],
   "source": [
    "plt.figure(figsize=(12, 6))\n",
    "sn.boxplot(cars_df.Price);"
   ]
  },
  {
   "cell_type": "code",
   "execution_count": 34,
   "metadata": {},
   "outputs": [
    {
     "data": {
      "text/plain": [
       "4.295"
      ]
     },
     "execution_count": 34,
     "metadata": {},
     "output_type": "execute_result"
    }
   ],
   "source": [
    "cars_df.Price.median()"
   ]
  },
  {
   "cell_type": "code",
   "execution_count": 35,
   "metadata": {},
   "outputs": [
    {
     "data": {
      "text/plain": [
       "3.1499999999999995"
      ]
     },
     "execution_count": 35,
     "metadata": {},
     "output_type": "execute_result"
    }
   ],
   "source": [
    "iqr = stats.iqr(cars_df.Price)\n",
    "iqr"
   ]
  },
  {
   "cell_type": "code",
   "execution_count": 36,
   "metadata": {},
   "outputs": [
    {
     "data": {
      "text/plain": [
       "count    1036.000000\n",
       "mean        4.642075\n",
       "std         2.162942\n",
       "min         0.750000\n",
       "25%         2.950000\n",
       "50%         4.295000\n",
       "75%         6.100000\n",
       "max        10.190000\n",
       "Name: Price, dtype: float64"
      ]
     },
     "execution_count": 36,
     "metadata": {},
     "output_type": "execute_result"
    }
   ],
   "source": [
    "price_stats = cars_df.Price.describe()\n",
    "price_stats"
   ]
  },
  {
   "cell_type": "code",
   "execution_count": 37,
   "metadata": {},
   "outputs": [
    {
     "data": {
      "text/plain": [
       "-1.7749999999999995"
      ]
     },
     "execution_count": 37,
     "metadata": {},
     "output_type": "execute_result"
    }
   ],
   "source": [
    "min_price = price_stats['25%'] - 1.5 * iqr\n",
    "min_price"
   ]
  },
  {
   "cell_type": "code",
   "execution_count": 38,
   "metadata": {},
   "outputs": [
    {
     "data": {
      "text/plain": [
       "10.825"
      ]
     },
     "execution_count": 38,
     "metadata": {},
     "output_type": "execute_result"
    }
   ],
   "source": [
    "max_price = price_stats['75%'] + 1.5 * iqr\n",
    "max_price"
   ]
  },
  {
   "cell_type": "markdown",
   "metadata": {},
   "source": [
    "### Ex4. Participants Exercise:\n",
    "\n",
    "- Find any outliers in terms of kilometer driven using both standard deviation and box plot approach?"
   ]
  },
  {
   "cell_type": "code",
   "execution_count": 39,
   "metadata": {},
   "outputs": [
    {
     "data": {
      "text/plain": [
       "(31, 11)"
      ]
     },
     "execution_count": 39,
     "metadata": {},
     "output_type": "execute_result"
    }
   ],
   "source": [
    "cars_df[cars_df.KM_Driven > 126.0].shape"
   ]
  },
  {
   "cell_type": "markdown",
   "metadata": {},
   "source": [
    "## 9. Cars Models and their distribution\n",
    "\n",
    "We are assuming the first token to be the make and the second token to be the model."
   ]
  },
  {
   "cell_type": "code",
   "execution_count": 40,
   "metadata": {},
   "outputs": [
    {
     "data": {
      "text/plain": [
       "Model\n",
       "swift      326\n",
       "alto       130\n",
       "wagon      115\n",
       "ertiga      70\n",
       "ciaz        66\n",
       "ritz        64\n",
       "baleno      60\n",
       "celerio     56\n",
       "vitara      35\n",
       "dzire       24\n",
       "omni        19\n",
       "a-star      17\n",
       "zen         16\n",
       "eeco        12\n",
       "sx4          9\n",
       "800          7\n",
       "ignis        6\n",
       "s-cross      3\n",
       "esteem       1\n",
       "Name: count, dtype: int64"
      ]
     },
     "execution_count": 40,
     "metadata": {},
     "output_type": "execute_result"
    }
   ],
   "source": [
    "cars_df.Model.value_counts()"
   ]
  },
  {
   "cell_type": "markdown",
   "metadata": {},
   "source": [
    "## 10. Top 10 selling models"
   ]
  },
  {
   "cell_type": "code",
   "execution_count": 41,
   "metadata": {},
   "outputs": [],
   "source": [
    "models_df = cars_df.Model.value_counts().reset_index();"
   ]
  },
  {
   "cell_type": "code",
   "execution_count": 42,
   "metadata": {},
   "outputs": [],
   "source": [
    "models_df.columns = ['Model', 'Counts']"
   ]
  },
  {
   "cell_type": "code",
   "execution_count": 43,
   "metadata": {},
   "outputs": [
    {
     "data": {
      "text/html": [
       "<div>\n",
       "<style scoped>\n",
       "    .dataframe tbody tr th:only-of-type {\n",
       "        vertical-align: middle;\n",
       "    }\n",
       "\n",
       "    .dataframe tbody tr th {\n",
       "        vertical-align: top;\n",
       "    }\n",
       "\n",
       "    .dataframe thead th {\n",
       "        text-align: right;\n",
       "    }\n",
       "</style>\n",
       "<table border=\"1\" class=\"dataframe\">\n",
       "  <thead>\n",
       "    <tr style=\"text-align: right;\">\n",
       "      <th></th>\n",
       "      <th>Model</th>\n",
       "      <th>Counts</th>\n",
       "    </tr>\n",
       "  </thead>\n",
       "  <tbody>\n",
       "    <tr>\n",
       "      <th>0</th>\n",
       "      <td>swift</td>\n",
       "      <td>326</td>\n",
       "    </tr>\n",
       "    <tr>\n",
       "      <th>1</th>\n",
       "      <td>alto</td>\n",
       "      <td>130</td>\n",
       "    </tr>\n",
       "    <tr>\n",
       "      <th>2</th>\n",
       "      <td>wagon</td>\n",
       "      <td>115</td>\n",
       "    </tr>\n",
       "    <tr>\n",
       "      <th>3</th>\n",
       "      <td>ertiga</td>\n",
       "      <td>70</td>\n",
       "    </tr>\n",
       "    <tr>\n",
       "      <th>4</th>\n",
       "      <td>ciaz</td>\n",
       "      <td>66</td>\n",
       "    </tr>\n",
       "    <tr>\n",
       "      <th>5</th>\n",
       "      <td>ritz</td>\n",
       "      <td>64</td>\n",
       "    </tr>\n",
       "    <tr>\n",
       "      <th>6</th>\n",
       "      <td>baleno</td>\n",
       "      <td>60</td>\n",
       "    </tr>\n",
       "    <tr>\n",
       "      <th>7</th>\n",
       "      <td>celerio</td>\n",
       "      <td>56</td>\n",
       "    </tr>\n",
       "    <tr>\n",
       "      <th>8</th>\n",
       "      <td>vitara</td>\n",
       "      <td>35</td>\n",
       "    </tr>\n",
       "    <tr>\n",
       "      <th>9</th>\n",
       "      <td>dzire</td>\n",
       "      <td>24</td>\n",
       "    </tr>\n",
       "  </tbody>\n",
       "</table>\n",
       "</div>"
      ],
      "text/plain": [
       "     Model  Counts\n",
       "0    swift     326\n",
       "1     alto     130\n",
       "2    wagon     115\n",
       "3   ertiga      70\n",
       "4     ciaz      66\n",
       "5     ritz      64\n",
       "6   baleno      60\n",
       "7  celerio      56\n",
       "8   vitara      35\n",
       "9    dzire      24"
      ]
     },
     "execution_count": 43,
     "metadata": {},
     "output_type": "execute_result"
    }
   ],
   "source": [
    "models_df.head(10)"
   ]
  },
  {
   "cell_type": "code",
   "execution_count": 44,
   "metadata": {},
   "outputs": [
    {
     "data": {
      "image/png": "[encoded data removed]",
      "text/plain": [
       "<Figure size 1500x600 with 1 Axes>"
      ]
     },
     "metadata": {},
     "output_type": "display_data"
    }
   ],
   "source": [
    "plt.figure(figsize=(15, 6));\n",
    "sn.barplot(data = models_df,\n",
    "           x = 'Model',\n",
    "           y = 'Counts');"
   ]
  },
  {
   "cell_type": "code",
   "execution_count": 45,
   "metadata": {},
   "outputs": [],
   "source": [
    "top10_models = list(models_df.Model)[0:10]"
   ]
  },
  {
   "cell_type": "code",
   "execution_count": 46,
   "metadata": {},
   "outputs": [
    {
     "data": {
      "text/plain": [
       "['swift',\n",
       " 'alto',\n",
       " 'wagon',\n",
       " 'ertiga',\n",
       " 'ciaz',\n",
       " 'ritz',\n",
       " 'baleno',\n",
       " 'celerio',\n",
       " 'vitara',\n",
       " 'dzire']"
      ]
     },
     "execution_count": 46,
     "metadata": {},
     "output_type": "execute_result"
    }
   ],
   "source": [
    "top10_models"
   ]
  },
  {
   "cell_type": "markdown",
   "metadata": {},
   "source": [
    "## 11. Models to Remove"
   ]
  },
  {
   "cell_type": "code",
   "execution_count": 47,
   "metadata": {},
   "outputs": [],
   "source": [
    "models_to_remove = list(models_df[models_df.Counts < 10]['Model'])"
   ]
  },
  {
   "cell_type": "code",
   "execution_count": 48,
   "metadata": {},
   "outputs": [
    {
     "data": {
      "text/plain": [
       "['sx4', '800', 'ignis', 's-cross', 'esteem']"
      ]
     },
     "execution_count": 48,
     "metadata": {},
     "output_type": "execute_result"
    }
   ],
   "source": [
    "models_to_remove"
   ]
  },
  {
   "cell_type": "markdown",
   "metadata": {},
   "source": [
    "### Ex6. Participants Exercise\n",
    "\n",
    "- Plot the number of cars sold for each of years of car edition (Year) using count plot."
   ]
  },
  {
   "cell_type": "markdown",
   "metadata": {},
   "source": [
    "# Bivariate Analysis - Analyzing Two Variables"
   ]
  },
  {
   "cell_type": "markdown",
   "metadata": {},
   "source": [
    "## 12. Average selling prices of top 10 models"
   ]
  },
  {
   "cell_type": "code",
   "execution_count": 49,
   "metadata": {},
   "outputs": [],
   "source": [
    "avg_price_models = cars_df.groupby('Model')['Price'].mean()"
   ]
  },
  {
   "cell_type": "code",
   "execution_count": 50,
   "metadata": {},
   "outputs": [
    {
     "data": {
      "text/plain": [
       "Model\n",
       "800        0.935714\n",
       "a-star     2.365294\n",
       "alto       2.563385\n",
       "baleno     6.949500\n",
       "celerio    4.118393\n",
       "ciaz       7.549545\n",
       "dzire      6.249167\n",
       "eeco       3.475000\n",
       "ertiga     6.920857\n",
       "esteem     1.450000\n",
       "ignis      6.148333\n",
       "omni       2.432105\n",
       "ritz       3.611250\n",
       "s-cross    7.950000\n",
       "swift      4.745215\n",
       "sx4        5.547778\n",
       "vitara     8.713429\n",
       "wagon      2.945043\n",
       "zen        1.696250\n",
       "Name: Price, dtype: float64"
      ]
     },
     "execution_count": 50,
     "metadata": {},
     "output_type": "execute_result"
    }
   ],
   "source": [
    "avg_price_models"
   ]
  },
  {
   "cell_type": "markdown",
   "metadata": {},
   "source": [
    "## 13. Distribution of Resale Price For Top 10 Models\n",
    "\n",
    "- What is distribution of sales price of cars of top 10 models, which are 2 years old?"
   ]
  },
  {
   "cell_type": "code",
   "execution_count": 51,
   "metadata": {},
   "outputs": [
    {
     "data": {
      "image/png": "[encoded data removed]",
      "text/plain": [
       "<Figure size 1500x600 with 1 Axes>"
      ]
     },
     "metadata": {},
     "output_type": "display_data"
    }
   ],
   "source": [
    "plt.figure(figsize=(15, 6));\n",
    "sn.boxplot(data = cars_df[cars_df.Model.isin(top10_models)],\n",
    "           x = 'Model',\n",
    "           y = 'Price',\n",
    "           order = top10_models);"
   ]
  },
  {
   "cell_type": "code",
   "execution_count": 52,
   "metadata": {
    "scrolled": true
   },
   "outputs": [
    {
     "data": {
      "text/html": [
       "<div>\n",
       "<style scoped>\n",
       "    .dataframe tbody tr th:only-of-type {\n",
       "        vertical-align: middle;\n",
       "    }\n",
       "\n",
       "    .dataframe tbody tr th {\n",
       "        vertical-align: top;\n",
       "    }\n",
       "\n",
       "    .dataframe thead th {\n",
       "        text-align: right;\n",
       "    }\n",
       "</style>\n",
       "<table border=\"1\" class=\"dataframe\">\n",
       "  <thead>\n",
       "    <tr style=\"text-align: right;\">\n",
       "      <th></th>\n",
       "      <th>Location</th>\n",
       "      <th>Fuel_Type</th>\n",
       "      <th>Transmission</th>\n",
       "      <th>Owner_Type</th>\n",
       "      <th>Seats</th>\n",
       "      <th>Price</th>\n",
       "      <th>Age</th>\n",
       "      <th>Model</th>\n",
       "      <th>Mileage</th>\n",
       "      <th>Power</th>\n",
       "      <th>KM_Driven</th>\n",
       "    </tr>\n",
       "  </thead>\n",
       "  <tbody>\n",
       "    <tr>\n",
       "      <th>1008</th>\n",
       "      <td>Pune</td>\n",
       "      <td>Petrol</td>\n",
       "      <td>Manual</td>\n",
       "      <td>Third</td>\n",
       "      <td>5</td>\n",
       "      <td>0.85</td>\n",
       "      <td>14</td>\n",
       "      <td>baleno</td>\n",
       "      <td>15.4</td>\n",
       "      <td>94.0</td>\n",
       "      <td>155</td>\n",
       "    </tr>\n",
       "    <tr>\n",
       "      <th>173</th>\n",
       "      <td>Pune</td>\n",
       "      <td>Petrol</td>\n",
       "      <td>Manual</td>\n",
       "      <td>Second</td>\n",
       "      <td>5</td>\n",
       "      <td>1.05</td>\n",
       "      <td>14</td>\n",
       "      <td>baleno</td>\n",
       "      <td>15.4</td>\n",
       "      <td>94.0</td>\n",
       "      <td>146</td>\n",
       "    </tr>\n",
       "    <tr>\n",
       "      <th>1026</th>\n",
       "      <td>Jaipur</td>\n",
       "      <td>Petrol</td>\n",
       "      <td>Manual</td>\n",
       "      <td>First</td>\n",
       "      <td>5</td>\n",
       "      <td>4.50</td>\n",
       "      <td>3</td>\n",
       "      <td>baleno</td>\n",
       "      <td>21.4</td>\n",
       "      <td>83.1</td>\n",
       "      <td>27</td>\n",
       "    </tr>\n",
       "    <tr>\n",
       "      <th>208</th>\n",
       "      <td>Delhi</td>\n",
       "      <td>Petrol</td>\n",
       "      <td>Manual</td>\n",
       "      <td>First</td>\n",
       "      <td>5</td>\n",
       "      <td>5.45</td>\n",
       "      <td>4</td>\n",
       "      <td>baleno</td>\n",
       "      <td>21.4</td>\n",
       "      <td>83.1</td>\n",
       "      <td>50</td>\n",
       "    </tr>\n",
       "    <tr>\n",
       "      <th>574</th>\n",
       "      <td>Mumbai</td>\n",
       "      <td>Petrol</td>\n",
       "      <td>Manual</td>\n",
       "      <td>First</td>\n",
       "      <td>5</td>\n",
       "      <td>5.49</td>\n",
       "      <td>4</td>\n",
       "      <td>baleno</td>\n",
       "      <td>21.4</td>\n",
       "      <td>83.1</td>\n",
       "      <td>8</td>\n",
       "    </tr>\n",
       "  </tbody>\n",
       "</table>\n",
       "</div>"
      ],
      "text/plain": [
       "     Location Fuel_Type Transmission Owner_Type  Seats  Price  Age   Model  \\\n",
       "1008     Pune    Petrol       Manual      Third      5   0.85   14  baleno   \n",
       "173      Pune    Petrol       Manual     Second      5   1.05   14  baleno   \n",
       "1026   Jaipur    Petrol       Manual      First      5   4.50    3  baleno   \n",
       "208     Delhi    Petrol       Manual      First      5   5.45    4  baleno   \n",
       "574    Mumbai    Petrol       Manual      First      5   5.49    4  baleno   \n",
       "\n",
       "      Mileage  Power  KM_Driven  \n",
       "1008     15.4   94.0        155  \n",
       "173      15.4   94.0        146  \n",
       "1026     21.4   83.1         27  \n",
       "208      21.4   83.1         50  \n",
       "574      21.4   83.1          8  "
      ]
     },
     "execution_count": 52,
     "metadata": {},
     "output_type": "execute_result"
    }
   ],
   "source": [
    "cars_df[cars_df.Model == 'baleno'].sort_values('Price', ascending = True )[0:5]"
   ]
  },
  {
   "cell_type": "markdown",
   "metadata": {},
   "source": [
    "### Ex7. Participant Exercise:\n",
    "\n",
    "- Find out the variations of sales prices for only SWIFT model for different ages (e.g. one year old, two year old and so on?"
   ]
  },
  {
   "cell_type": "markdown",
   "metadata": {},
   "source": [
    "## 14. Demand for models across different locations"
   ]
  },
  {
   "cell_type": "code",
   "execution_count": 53,
   "metadata": {},
   "outputs": [
    {
     "data": {
      "text/html": [
       "<div>\n",
       "<style scoped>\n",
       "    .dataframe tbody tr th:only-of-type {\n",
       "        vertical-align: middle;\n",
       "    }\n",
       "\n",
       "    .dataframe tbody tr th {\n",
       "        vertical-align: top;\n",
       "    }\n",
       "\n",
       "    .dataframe thead th {\n",
       "        text-align: right;\n",
       "    }\n",
       "</style>\n",
       "<table border=\"1\" class=\"dataframe\">\n",
       "  <thead>\n",
       "    <tr style=\"text-align: right;\">\n",
       "      <th>Model</th>\n",
       "      <th>alto</th>\n",
       "      <th>baleno</th>\n",
       "      <th>celerio</th>\n",
       "      <th>ciaz</th>\n",
       "      <th>dzire</th>\n",
       "      <th>ertiga</th>\n",
       "      <th>ritz</th>\n",
       "      <th>swift</th>\n",
       "      <th>vitara</th>\n",
       "      <th>wagon</th>\n",
       "    </tr>\n",
       "    <tr>\n",
       "      <th>Location</th>\n",
       "      <th></th>\n",
       "      <th></th>\n",
       "      <th></th>\n",
       "      <th></th>\n",
       "      <th></th>\n",
       "      <th></th>\n",
       "      <th></th>\n",
       "      <th></th>\n",
       "      <th></th>\n",
       "      <th></th>\n",
       "    </tr>\n",
       "  </thead>\n",
       "  <tbody>\n",
       "    <tr>\n",
       "      <th>Ahmedabad</th>\n",
       "      <td>0.095238</td>\n",
       "      <td>0.023810</td>\n",
       "      <td>0.047619</td>\n",
       "      <td>0.119048</td>\n",
       "      <td>0.023810</td>\n",
       "      <td>0.119048</td>\n",
       "      <td>0.000000</td>\n",
       "      <td>0.380952</td>\n",
       "      <td>0.047619</td>\n",
       "      <td>0.142857</td>\n",
       "    </tr>\n",
       "    <tr>\n",
       "      <th>Bangalore</th>\n",
       "      <td>0.153846</td>\n",
       "      <td>0.000000</td>\n",
       "      <td>0.153846</td>\n",
       "      <td>0.038462</td>\n",
       "      <td>0.000000</td>\n",
       "      <td>0.153846</td>\n",
       "      <td>0.038462</td>\n",
       "      <td>0.346154</td>\n",
       "      <td>0.038462</td>\n",
       "      <td>0.076923</td>\n",
       "    </tr>\n",
       "    <tr>\n",
       "      <th>Chennai</th>\n",
       "      <td>0.223684</td>\n",
       "      <td>0.052632</td>\n",
       "      <td>0.065789</td>\n",
       "      <td>0.052632</td>\n",
       "      <td>0.026316</td>\n",
       "      <td>0.092105</td>\n",
       "      <td>0.026316</td>\n",
       "      <td>0.381579</td>\n",
       "      <td>0.013158</td>\n",
       "      <td>0.065789</td>\n",
       "    </tr>\n",
       "    <tr>\n",
       "      <th>Coimbatore</th>\n",
       "      <td>0.128571</td>\n",
       "      <td>0.114286</td>\n",
       "      <td>0.028571</td>\n",
       "      <td>0.100000</td>\n",
       "      <td>0.028571</td>\n",
       "      <td>0.028571</td>\n",
       "      <td>0.128571</td>\n",
       "      <td>0.328571</td>\n",
       "      <td>0.057143</td>\n",
       "      <td>0.057143</td>\n",
       "    </tr>\n",
       "    <tr>\n",
       "      <th>Delhi</th>\n",
       "      <td>0.064516</td>\n",
       "      <td>0.118280</td>\n",
       "      <td>0.043011</td>\n",
       "      <td>0.086022</td>\n",
       "      <td>0.010753</td>\n",
       "      <td>0.086022</td>\n",
       "      <td>0.021505</td>\n",
       "      <td>0.376344</td>\n",
       "      <td>0.043011</td>\n",
       "      <td>0.150538</td>\n",
       "    </tr>\n",
       "    <tr>\n",
       "      <th>Hyderabad</th>\n",
       "      <td>0.200000</td>\n",
       "      <td>0.035714</td>\n",
       "      <td>0.085714</td>\n",
       "      <td>0.035714</td>\n",
       "      <td>0.035714</td>\n",
       "      <td>0.064286</td>\n",
       "      <td>0.150000</td>\n",
       "      <td>0.321429</td>\n",
       "      <td>0.021429</td>\n",
       "      <td>0.050000</td>\n",
       "    </tr>\n",
       "    <tr>\n",
       "      <th>Jaipur</th>\n",
       "      <td>0.146067</td>\n",
       "      <td>0.033708</td>\n",
       "      <td>0.022472</td>\n",
       "      <td>0.078652</td>\n",
       "      <td>0.022472</td>\n",
       "      <td>0.044944</td>\n",
       "      <td>0.056180</td>\n",
       "      <td>0.415730</td>\n",
       "      <td>0.011236</td>\n",
       "      <td>0.168539</td>\n",
       "    </tr>\n",
       "    <tr>\n",
       "      <th>Kochi</th>\n",
       "      <td>0.136842</td>\n",
       "      <td>0.115789</td>\n",
       "      <td>0.052632</td>\n",
       "      <td>0.147368</td>\n",
       "      <td>0.021053</td>\n",
       "      <td>0.042105</td>\n",
       "      <td>0.031579</td>\n",
       "      <td>0.252632</td>\n",
       "      <td>0.094737</td>\n",
       "      <td>0.105263</td>\n",
       "    </tr>\n",
       "    <tr>\n",
       "      <th>Kolkata</th>\n",
       "      <td>0.152381</td>\n",
       "      <td>0.028571</td>\n",
       "      <td>0.057143</td>\n",
       "      <td>0.028571</td>\n",
       "      <td>0.019048</td>\n",
       "      <td>0.047619</td>\n",
       "      <td>0.066667</td>\n",
       "      <td>0.390476</td>\n",
       "      <td>0.019048</td>\n",
       "      <td>0.190476</td>\n",
       "    </tr>\n",
       "    <tr>\n",
       "      <th>Mumbai</th>\n",
       "      <td>0.083333</td>\n",
       "      <td>0.093750</td>\n",
       "      <td>0.062500</td>\n",
       "      <td>0.104167</td>\n",
       "      <td>0.010417</td>\n",
       "      <td>0.114583</td>\n",
       "      <td>0.072917</td>\n",
       "      <td>0.270833</td>\n",
       "      <td>0.020833</td>\n",
       "      <td>0.166667</td>\n",
       "    </tr>\n",
       "    <tr>\n",
       "      <th>Pune</th>\n",
       "      <td>0.105263</td>\n",
       "      <td>0.043860</td>\n",
       "      <td>0.070175</td>\n",
       "      <td>0.017544</td>\n",
       "      <td>0.052632</td>\n",
       "      <td>0.096491</td>\n",
       "      <td>0.061404</td>\n",
       "      <td>0.359649</td>\n",
       "      <td>0.052632</td>\n",
       "      <td>0.140351</td>\n",
       "    </tr>\n",
       "  </tbody>\n",
       "</table>\n",
       "</div>"
      ],
      "text/plain": [
       "Model           alto    baleno   celerio      ciaz     dzire    ertiga  \\\n",
       "Location                                                                 \n",
       "Ahmedabad   0.095238  0.023810  0.047619  0.119048  0.023810  0.119048   \n",
       "Bangalore   0.153846  0.000000  0.153846  0.038462  0.000000  0.153846   \n",
       "Chennai     0.223684  0.052632  0.065789  0.052632  0.026316  0.092105   \n",
       "Coimbatore  0.128571  0.114286  0.028571  0.100000  0.028571  0.028571   \n",
       "Delhi       0.064516  0.118280  0.043011  0.086022  0.010753  0.086022   \n",
       "Hyderabad   0.200000  0.035714  0.085714  0.035714  0.035714  0.064286   \n",
       "Jaipur      0.146067  0.033708  0.022472  0.078652  0.022472  0.044944   \n",
       "Kochi       0.136842  0.115789  0.052632  0.147368  0.021053  0.042105   \n",
       "Kolkata     0.152381  0.028571  0.057143  0.028571  0.019048  0.047619   \n",
       "Mumbai      0.083333  0.093750  0.062500  0.104167  0.010417  0.114583   \n",
       "Pune        0.105263  0.043860  0.070175  0.017544  0.052632  0.096491   \n",
       "\n",
       "Model           ritz     swift    vitara     wagon  \n",
       "Location                                            \n",
       "Ahmedabad   0.000000  0.380952  0.047619  0.142857  \n",
       "Bangalore   0.038462  0.346154  0.038462  0.076923  \n",
       "Chennai     0.026316  0.381579  0.013158  0.065789  \n",
       "Coimbatore  0.128571  0.328571  0.057143  0.057143  \n",
       "Delhi       0.021505  0.376344  0.043011  0.150538  \n",
       "Hyderabad   0.150000  0.321429  0.021429  0.050000  \n",
       "Jaipur      0.056180  0.415730  0.011236  0.168539  \n",
       "Kochi       0.031579  0.252632  0.094737  0.105263  \n",
       "Kolkata     0.066667  0.390476  0.019048  0.190476  \n",
       "Mumbai      0.072917  0.270833  0.020833  0.166667  \n",
       "Pune        0.061404  0.359649  0.052632  0.140351  "
      ]
     },
     "execution_count": 53,
     "metadata": {},
     "output_type": "execute_result"
    }
   ],
   "source": [
    "top10_cars_df = cars_df[cars_df.Model.isin(top10_models)]\n",
    "models_by_locations = pd.crosstab(top10_cars_df.Location, \n",
    "                                  top10_cars_df.Model,\n",
    "                                  normalize='index');\n",
    "models_by_locations"
   ]
  },
  {
   "cell_type": "code",
   "execution_count": 54,
   "metadata": {},
   "outputs": [
    {
     "data": {
      "image/png": "[encoded data removed]",
      "text/plain": [
       "<Figure size 1200x1000 with 2 Axes>"
      ]
     },
     "metadata": {},
     "output_type": "display_data"
    }
   ],
   "source": [
    "plt.figure(figsize=(12, 10));\n",
    "sn.heatmap(models_by_locations, annot = True, fmt = '0.2f', cmap = 'YlGnBu');"
   ]
  },
  {
   "cell_type": "code",
   "execution_count": 55,
   "metadata": {},
   "outputs": [
    {
     "data": {
      "image/png": "[encoded data removed]",
      "text/plain": [
       "<Figure size 1200x600 with 1 Axes>"
      ]
     },
     "metadata": {},
     "output_type": "display_data"
    }
   ],
   "source": [
    "plt.figure(figsize=(12, 6));\n",
    "sn.countplot(data = cars_df,\n",
    "             x = 'Model',\n",
    "             hue = 'Fuel_Type' );"
   ]
  },
  {
   "cell_type": "markdown",
   "metadata": {},
   "source": [
    "### Ex8. Participants Exercise:\n",
    "\n",
    "- Find out the demand for differnent fuel type of cars for different models?"
   ]
  },
  {
   "cell_type": "markdown",
   "metadata": {},
   "source": [
    "## 14. How mileage is effecting the resale price?"
   ]
  },
  {
   "cell_type": "code",
   "execution_count": 56,
   "metadata": {},
   "outputs": [
    {
     "data": {
      "image/png": "[encoded data removed]",
      "text/plain": [
       "<Figure size 1200x600 with 1 Axes>"
      ]
     },
     "metadata": {},
     "output_type": "display_data"
    }
   ],
   "source": [
    "plt.figure(figsize=(12, 6));\n",
    "sn.regplot(data = cars_df,\n",
    "           x = 'Mileage',\n",
    "           y = 'Price');"
   ]
  },
  {
   "cell_type": "markdown",
   "metadata": {},
   "source": [
    "## 15. How kilometer driven is effecting the resale price?"
   ]
  },
  {
   "cell_type": "code",
   "execution_count": 57,
   "metadata": {},
   "outputs": [
    {
     "data": {
      "image/png": "[encoded data removed]",
      "text/plain": [
       "<Figure size 1200x600 with 1 Axes>"
      ]
     },
     "metadata": {},
     "output_type": "display_data"
    }
   ],
   "source": [
    "plt.figure(figsize=(12, 6));\n",
    "sn.regplot(data = cars_df,\n",
    "           x = 'KM_Driven',\n",
    "           y = 'Price');"
   ]
  },
  {
   "cell_type": "markdown",
   "metadata": {},
   "source": [
    "### Ex9. Participants Exercise:\n",
    "\n",
    "- Find out the correlation between by drawing scatter plots\n",
    "    - Power and Price\n",
    "    - Age and Price"
   ]
  },
  {
   "cell_type": "markdown",
   "metadata": {},
   "source": [
    "## 16. Finding corrleation between multiple variables (numerical)"
   ]
  },
  {
   "cell_type": "code",
   "execution_count": 58,
   "metadata": {},
   "outputs": [],
   "source": [
    "corr_mat = cars_df[['Price', 'Age', 'Power', 'Mileage', 'KM_Driven']].corr()"
   ]
  },
  {
   "cell_type": "code",
   "execution_count": 59,
   "metadata": {},
   "outputs": [
    {
     "data": {
      "text/html": [
       "<div>\n",
       "<style scoped>\n",
       "    .dataframe tbody tr th:only-of-type {\n",
       "        vertical-align: middle;\n",
       "    }\n",
       "\n",
       "    .dataframe tbody tr th {\n",
       "        vertical-align: top;\n",
       "    }\n",
       "\n",
       "    .dataframe thead th {\n",
       "        text-align: right;\n",
       "    }\n",
       "</style>\n",
       "<table border=\"1\" class=\"dataframe\">\n",
       "  <thead>\n",
       "    <tr style=\"text-align: right;\">\n",
       "      <th></th>\n",
       "      <th>Price</th>\n",
       "      <th>Age</th>\n",
       "      <th>Power</th>\n",
       "      <th>Mileage</th>\n",
       "      <th>KM_Driven</th>\n",
       "    </tr>\n",
       "  </thead>\n",
       "  <tbody>\n",
       "    <tr>\n",
       "      <th>Price</th>\n",
       "      <td>1.000000</td>\n",
       "      <td>-0.704371</td>\n",
       "      <td>0.635992</td>\n",
       "      <td>0.465009</td>\n",
       "      <td>-0.274786</td>\n",
       "    </tr>\n",
       "    <tr>\n",
       "      <th>Age</th>\n",
       "      <td>-0.704371</td>\n",
       "      <td>1.000000</td>\n",
       "      <td>-0.255755</td>\n",
       "      <td>-0.483087</td>\n",
       "      <td>0.494676</td>\n",
       "    </tr>\n",
       "    <tr>\n",
       "      <th>Power</th>\n",
       "      <td>0.635992</td>\n",
       "      <td>-0.255755</td>\n",
       "      <td>1.000000</td>\n",
       "      <td>0.095042</td>\n",
       "      <td>0.011712</td>\n",
       "    </tr>\n",
       "    <tr>\n",
       "      <th>Mileage</th>\n",
       "      <td>0.465009</td>\n",
       "      <td>-0.483087</td>\n",
       "      <td>0.095042</td>\n",
       "      <td>1.000000</td>\n",
       "      <td>-0.105075</td>\n",
       "    </tr>\n",
       "    <tr>\n",
       "      <th>KM_Driven</th>\n",
       "      <td>-0.274786</td>\n",
       "      <td>0.494676</td>\n",
       "      <td>0.011712</td>\n",
       "      <td>-0.105075</td>\n",
       "      <td>1.000000</td>\n",
       "    </tr>\n",
       "  </tbody>\n",
       "</table>\n",
       "</div>"
      ],
      "text/plain": [
       "              Price       Age     Power   Mileage  KM_Driven\n",
       "Price      1.000000 -0.704371  0.635992  0.465009  -0.274786\n",
       "Age       -0.704371  1.000000 -0.255755 -0.483087   0.494676\n",
       "Power      0.635992 -0.255755  1.000000  0.095042   0.011712\n",
       "Mileage    0.465009 -0.483087  0.095042  1.000000  -0.105075\n",
       "KM_Driven -0.274786  0.494676  0.011712 -0.105075   1.000000"
      ]
     },
     "execution_count": 59,
     "metadata": {},
     "output_type": "execute_result"
    }
   ],
   "source": [
    "corr_mat"
   ]
  },
  {
   "cell_type": "code",
   "execution_count": 60,
   "metadata": {},
   "outputs": [
    {
     "data": {
      "image/png": "[encoded data removed]",
      "text/plain": [
       "<Figure size 1000x800 with 2 Axes>"
      ]
     },
     "metadata": {},
     "output_type": "display_data"
    }
   ],
   "source": [
    "plt.figure(figsize=(10, 8));\n",
    "sn.heatmap(corr_mat,\n",
    "           annot = True,\n",
    "           fmt = '0.2f',\n",
    "           vmin = -1.0,\n",
    "           vmax = 1.0,\n",
    "           cmap = sn.diverging_palette(240, 10));"
   ]
  },
  {
   "cell_type": "markdown",
   "metadata": {},
   "source": [
    "## 17. Save the DataFrame "
   ]
  },
  {
   "cell_type": "code",
   "execution_count": 61,
   "metadata": {},
   "outputs": [],
   "source": [
    "final_cars_df = cars_df[~cars_df.Model.isin(models_to_remove)]"
   ]
  },
  {
   "cell_type": "code",
   "execution_count": 62,
   "metadata": {},
   "outputs": [
    {
     "data": {
      "text/plain": [
       "(1010, 11)"
      ]
     },
     "execution_count": 62,
     "metadata": {},
     "output_type": "execute_result"
    }
   ],
   "source": [
    "final_cars_df.shape"
   ]
  },
  {
   "cell_type": "code",
   "execution_count": 63,
   "metadata": {},
   "outputs": [
    {
     "data": {
      "text/plain": [
       "(1036, 11)"
      ]
     },
     "execution_count": 63,
     "metadata": {},
     "output_type": "execute_result"
    }
   ],
   "source": [
    "cars_df.shape"
   ]
  },
  {
   "cell_type": "code",
   "execution_count": 64,
   "metadata": {},
   "outputs": [],
   "source": [
    "final_cars_df.to_csv('final_cars_maruti.csv', index = False)"
   ]
  },
  {
   "cell_type": "markdown",
   "metadata": {},
   "source": [
    "### Ex10. Participants Exercise:\n",
    "\n",
    "- Save the dataframe in excel format."
   ]
  },
  {
   "cell_type": "markdown",
   "metadata": {},
   "source": [
    "# Rules for plotting\n",
    "\n",
    "- Single Variable (Univariate Analysis)\n",
    "\n",
    "    - Continuous -> Histogram, boxplot, distribution plot\n",
    "    - Categorical -> Count Plot/Bar Plot\n",
    "\n",
    "- Two Variables (Bivariate Analysis)\n",
    "\n",
    "    - Continuous + Categorical -> Box plot, Overlapped Distribution Plot\n",
    "    - Continuous + Continuous -> Scatter Plot, heatmap\n",
    "    - Categoical + Categorical -> Bar Plot / Count Plot, heatmap"
   ]
  }
 ],
 "metadata": {
  "kernelspec": {
   "display_name": "Python 3 (ipykernel)",
   "language": "python",
   "name": "python3"
  },
  "language_info": {
   "codemirror_mode": {
    "name": "ipython",
    "version": 3
   },
   "file_extension": ".py",
   "mimetype": "text/x-python",
   "name": "python",
   "nbconvert_exporter": "python",
   "pygments_lexer": "ipython3",
   "version": "3.10.9"
  }
 },
 "nbformat": 4,
 "nbformat_minor": 4
}
